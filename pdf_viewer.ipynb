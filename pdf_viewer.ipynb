{
 "cells": [
  {
   "cell_type": "code",
   "execution_count": 1,
   "metadata": {},
   "outputs": [],
   "source": [
    "import pdfreader\n",
    "from pdfreader import PDFDocument, SimplePDFViewer"
   ]
  },
  {
   "cell_type": "code",
   "execution_count": 2,
   "metadata": {},
   "outputs": [],
   "source": [
    "pdf_path = \"prime_intellect.pdf\"\n",
    "\n",
    "file = open(pdf_path, \"rb\")\n",
    "viewer = SimplePDFViewer(file)\n"
   ]
  },
  {
   "cell_type": "code",
   "execution_count": 3,
   "metadata": {},
   "outputs": [
    {
     "name": "stdout",
     "output_type": "stream",
     "text": [
      "['The Metamorphosis of Prime IntellectA Novel by Roger Williams   This page contains the entire text of all eight chapters.* Chapter One:   Caroline At PlayHer name was Caroline Frances Hubert', ' and she had threeclaims to fame.In the first place she was the thirty-seventh oldest livinghuman being. Caroline herself was unimpressed by this fact. Toher way of thinking it was the result of an accident', ' nothing more.In any case she had been the thirty-seventh oldest human beingfor a long', ' long time', ' and it got to seem more of a bore than anaccomplishment after a while.In the second place she had once been infected with rabies.Caroline was rather proud of this distinction', \" though it had alsobeen a long time ago. There was a certain class of people whowere quite impressed with Caroline's bout with rabies\", \" not somuch because she survived it but because she hadn't. It had takenPrime Intellect fifty-six hours to realize it couldn't repair thedamage to her nervous system\", ' to backtrack', ' and to put hertogether again like Humpty Dumpty. For fifty-six hours', ' she hadnot existed. She had been dead. And she was the only one of thetrillions of souls in Cyberspace who had ever been dead', ' even for alittle while.In the third place', ' and most important to Caroline because it The Metamorphosis of Prime Intellect: Chapter 1http://www.kuro5hin.org/prime-intellect/mopiall.html1 of 13423/03/08 23:03']\n",
      "['represented a real accomplishment rather than an accident or aone-shot stab of cleverness', ' she was undisputed Queen of theDeath Jockeys. She would always be the thirty-seventh oldestperson', ' and after her rabies experiment Prime Intellect had shutthe door on further explorations of that nature. But the DeathJockeys constantly rated and ranked themselves by inventivenessand daring and many other factors. It was an ongoing competition', \"and if Caroline didn't keep working at it she'd be lost in an always-growing crowd of contenders. Caroline wouldn't admit that herhigh ranking was important to her\", ' but it was all she had and shethrew herself at it with an energy that was fierce and sometimesstartling.As she woke up', ' a window opened up in front of her', ' a perfectsquare of light', ' razor-edged and opaque. One cold message floatedwithin it:*You have four challengers.She could have had any surroundings she wanted', ' even awhole planet of her own design. A waste of time', ' she felt. Herpersonal space was minimal. In fact', ' it was the bare minimum', ' afloor and a gravity field. There was no visual distinction betweenthe floor and the sky or ceiling or whatever you chose to call it.Everything was exactly the same shade of soft white. When shewanted to relax she turned off the gravity and floated in free-fall.When she wanted to sleep', ' she turned off the light. If she wantedanything else', ' she called for it and then got rid of it when she wasfinished.\"Gravity. Keyboard', '\" she demanded. She felt graduallyincreasing pressure under her feet as a console blinked intoexistence. Caroline was as conservative as her years -- six hundredand ninety of them -- might suggest', ' a collector of useless skillsand worthless experiences. Typing was one of the useless skillsshe prized most highly', \" and her fingers flew rapidly as shediscussed the day's business with the Supreme Being:>List the records of the challengers.*#1. 87 recorded\", ' 4 exhibition', ' rating 7*#2. 3 recorded', ' no rating*#3. 116 recorded', ' 103 exhibition', ' rating 9*#4. 40 recorded', ' rating 6Caroline scowled. None of them even pre-Change -- PrimeIntellect would have noted it if they were. Babes hoping to getlucky and impress her. The third one was interesting', ' though; hemust have done something noteworthy to garner a 9 rating in somany exhibitions.The Metamorphosis of Prime Intellect: Chapter 1http://www.kuro5hin.org/prime-intellect/mopiall.html2 of 13423/03/08 23:03']\n"
     ]
    }
   ],
   "source": [
    "for i in range(1,3):\n",
    "    viewer.navigate(i)\n",
    "    viewer.render()\n",
    "    p = viewer.canvas\n",
    "    text =\"\"\n",
    "\n",
    "    text += \"\".join(p.strings)\n",
    "    print(text.split(','))\n",
    "    #print(text)"
   ]
  },
  {
   "cell_type": "code",
   "execution_count": 4,
   "metadata": {},
   "outputs": [],
   "source": [
    "def get_objects_from_viewer():\n",
    "    objects = []\n",
    "    for i in range(1, 3):\n",
    "        viewer.navigate(i)\n",
    "        viewer.render()\n",
    "        p = viewer.canvas\n",
    "        text = \"\"\n",
    "\n",
    "        text += \"\".join(p.strings)\n",
    "        objects.append(text)\n",
    "\n",
    "    return objects"
   ]
  },
  {
   "cell_type": "code",
   "execution_count": 5,
   "metadata": {},
   "outputs": [
    {
     "data": {
      "text/plain": [
       "[\"The Metamorphosis of Prime IntellectA Novel by Roger Williams   This page contains the entire text of all eight chapters.* Chapter One:   Caroline At PlayHer name was Caroline Frances Hubert, and she had threeclaims to fame.In the first place she was the thirty-seventh oldest livinghuman being. Caroline herself was unimpressed by this fact. Toher way of thinking it was the result of an accident, nothing more.In any case she had been the thirty-seventh oldest human beingfor a long, long time, and it got to seem more of a bore than anaccomplishment after a while.In the second place she had once been infected with rabies.Caroline was rather proud of this distinction, though it had alsobeen a long time ago. There was a certain class of people whowere quite impressed with Caroline's bout with rabies, not somuch because she survived it but because she hadn't. It had takenPrime Intellect fifty-six hours to realize it couldn't repair thedamage to her nervous system, to backtrack, and to put hertogether again like Humpty Dumpty. For fifty-six hours, she hadnot existed. She had been dead. And she was the only one of thetrillions of souls in Cyberspace who had ever been dead, even for alittle while.In the third place, and most important to Caroline because it The Metamorphosis of Prime Intellect: Chapter 1http://www.kuro5hin.org/prime-intellect/mopiall.html1 of 13423/03/08 23:03\",\n",
       " 'represented a real accomplishment rather than an accident or aone-shot stab of cleverness, she was undisputed Queen of theDeath Jockeys. She would always be the thirty-seventh oldestperson, and after her rabies experiment Prime Intellect had shutthe door on further explorations of that nature. But the DeathJockeys constantly rated and ranked themselves by inventivenessand daring and many other factors. It was an ongoing competition,and if Caroline didn\\'t keep working at it she\\'d be lost in an always-growing crowd of contenders. Caroline wouldn\\'t admit that herhigh ranking was important to her, but it was all she had and shethrew herself at it with an energy that was fierce and sometimesstartling.As she woke up, a window opened up in front of her, a perfectsquare of light, razor-edged and opaque. One cold message floatedwithin it:*You have four challengers.She could have had any surroundings she wanted, even awhole planet of her own design. A waste of time, she felt. Herpersonal space was minimal. In fact, it was the bare minimum, afloor and a gravity field. There was no visual distinction betweenthe floor and the sky or ceiling or whatever you chose to call it.Everything was exactly the same shade of soft white. When shewanted to relax she turned off the gravity and floated in free-fall.When she wanted to sleep, she turned off the light. If she wantedanything else, she called for it and then got rid of it when she wasfinished.\"Gravity. Keyboard,\" she demanded. She felt graduallyincreasing pressure under her feet as a console blinked intoexistence. Caroline was as conservative as her years -- six hundredand ninety of them -- might suggest, a collector of useless skillsand worthless experiences. Typing was one of the useless skillsshe prized most highly, and her fingers flew rapidly as shediscussed the day\\'s business with the Supreme Being:>List the records of the challengers.*#1. 87 recorded, 4 exhibition, rating 7*#2. 3 recorded, no rating*#3. 116 recorded, 103 exhibition, rating 9*#4. 40 recorded, rating 6Caroline scowled. None of them even pre-Change -- PrimeIntellect would have noted it if they were. Babes hoping to getlucky and impress her. The third one was interesting, though; hemust have done something noteworthy to garner a 9 rating in somany exhibitions.The Metamorphosis of Prime Intellect: Chapter 1http://www.kuro5hin.org/prime-intellect/mopiall.html2 of 13423/03/08 23:03']"
      ]
     },
     "execution_count": 5,
     "metadata": {},
     "output_type": "execute_result"
    }
   ],
   "source": [
    "g = get_objects_from_viewer()\n",
    "g"
   ]
  },
  {
   "cell_type": "code",
   "execution_count": 6,
   "metadata": {},
   "outputs": [
    {
     "data": {
      "text/plain": [
       "[\"The Metamorphosis of Prime IntellectA Novel by Roger Williams   This page contains the entire text of all eight chapters.* Chapter One:   Caroline At PlayHer name was Caroline Frances Hubert, and she had threeclaims to fame.In the first place she was the thirty-seventh oldest livinghuman being. Caroline herself was unimpressed by this fact. Toher way of thinking it was the result of an accident, nothing more.In any case she had been the thirty-seventh oldest human beingfor a long, long time, and it got to seem more of a bore than anaccomplishment after a while.In the second place she had once been infected with rabies.Caroline was rather proud of this distinction, though it had alsobeen a long time ago. There was a certain class of people whowere quite impressed with Caroline's bout with rabies, not somuch because she survived it but because she hadn't. It had takenPrime Intellect fifty-six hours to realize it couldn't repair thedamage to her nervous system, to backtrack, and to put hertogether again like Humpty Dumpty. For fifty-six hours, she hadnot existed. She had been dead. And she was the only one of thetrillions of souls in Cyberspace who had ever been dead, even for alittle while.In the third place, and most important to Caroline because it The Metamorphosis of Prime Intellect: Chapter 1http://www.kuro5hin.org/prime-intellect/mopiall.html1 of 13423/03/08 23:03\",\n",
       " 'represented a real accomplishment rather than an accident or aone-shot stab of cleverness, she was undisputed Queen of theDeath Jockeys. She would always be the thirty-seventh oldestperson, and after her rabies experiment Prime Intellect had shutthe door on further explorations of that nature. But the DeathJockeys constantly rated and ranked themselves by inventivenessand daring and many other factors. It was an ongoing competition,and if Caroline didn\\'t keep working at it she\\'d be lost in an always-growing crowd of contenders. Caroline wouldn\\'t admit that herhigh ranking was important to her, but it was all she had and shethrew herself at it with an energy that was fierce and sometimesstartling.As she woke up, a window opened up in front of her, a perfectsquare of light, razor-edged and opaque. One cold message floatedwithin it:*You have four challengers.She could have had any surroundings she wanted, even awhole planet of her own design. A waste of time, she felt. Herpersonal space was minimal. In fact, it was the bare minimum, afloor and a gravity field. There was no visual distinction betweenthe floor and the sky or ceiling or whatever you chose to call it.Everything was exactly the same shade of soft white. When shewanted to relax she turned off the gravity and floated in free-fall.When she wanted to sleep, she turned off the light. If she wantedanything else, she called for it and then got rid of it when she wasfinished.\"Gravity. Keyboard,\" she demanded. She felt graduallyincreasing pressure under her feet as a console blinked intoexistence. Caroline was as conservative as her years -- six hundredand ninety of them -- might suggest, a collector of useless skillsand worthless experiences. Typing was one of the useless skillsshe prized most highly, and her fingers flew rapidly as shediscussed the day\\'s business with the Supreme Being:>List the records of the challengers.*#1. 87 recorded, 4 exhibition, rating 7*#2. 3 recorded, no rating*#3. 116 recorded, 103 exhibition, rating 9*#4. 40 recorded, rating 6Caroline scowled. None of them even pre-Change -- PrimeIntellect would have noted it if they were. Babes hoping to getlucky and impress her. The third one was interesting, though; hemust have done something noteworthy to garner a 9 rating in somany exhibitions.The Metamorphosis of Prime Intellect: Chapter 1http://www.kuro5hin.org/prime-intellect/mopiall.html2 of 13423/03/08 23:03']"
      ]
     },
     "execution_count": 6,
     "metadata": {},
     "output_type": "execute_result"
    }
   ],
   "source": [
    "g"
   ]
  },
  {
   "cell_type": "code",
   "execution_count": 7,
   "metadata": {},
   "outputs": [
    {
     "data": {
      "text/plain": [
       "(\"The Metamorphosis of Prime IntellectA Novel by Roger Williams   This page contains the entire text of all eight chapters.* Chapter One:   Caroline At PlayHer name was Caroline Frances Hubert, and she had threeclaims to fame.In the first place she was the thirty-seventh oldest livinghuman being. Caroline herself was unimpressed by this fact. Toher way of thinking it was the result of an accident, nothing more.In any case she had been the thirty-seventh oldest human beingfor a long, long time, and it got to seem more of a bore than anaccomplishment after a while.In the second place she had once been infected with rabies.Caroline was rather proud of this distinction, though it had alsobeen a long time ago. There was a certain class of people whowere quite impressed with Caroline's bout with rabies, not somuch because she survived it but because she hadn't. It had takenPrime Intellect fifty-six hours to realize it couldn't repair thedamage to her nervous system, to backtrack, and to put hertogether again like Humpty Dumpty. For fifty-six hours, she hadnot existed. She had been dead. And she was the only one of thetrillions of souls in Cyberspace who had ever been dead, even for alittle while.In the third place, and most important to Caroline because it The Metamorphosis of Prime Intellect: Chapter 1http://www.kuro5hin.org/prime-intellect/mopiall.html1 of 13423/03/08 23:03\",\n",
       " 'represented a real accomplishment rather than an accident or aone-shot stab of cleverness, she was undisputed Queen of theDeath Jockeys. She would always be the thirty-seventh oldestperson, and after her rabies experiment Prime Intellect had shutthe door on further explorations of that nature. But the DeathJockeys constantly rated and ranked themselves by inventivenessand daring and many other factors. It was an ongoing competition,and if Caroline didn\\'t keep working at it she\\'d be lost in an always-growing crowd of contenders. Caroline wouldn\\'t admit that herhigh ranking was important to her, but it was all she had and shethrew herself at it with an energy that was fierce and sometimesstartling.As she woke up, a window opened up in front of her, a perfectsquare of light, razor-edged and opaque. One cold message floatedwithin it:*You have four challengers.She could have had any surroundings she wanted, even awhole planet of her own design. A waste of time, she felt. Herpersonal space was minimal. In fact, it was the bare minimum, afloor and a gravity field. There was no visual distinction betweenthe floor and the sky or ceiling or whatever you chose to call it.Everything was exactly the same shade of soft white. When shewanted to relax she turned off the gravity and floated in free-fall.When she wanted to sleep, she turned off the light. If she wantedanything else, she called for it and then got rid of it when she wasfinished.\"Gravity. Keyboard,\" she demanded. She felt graduallyincreasing pressure under her feet as a console blinked intoexistence. Caroline was as conservative as her years -- six hundredand ninety of them -- might suggest, a collector of useless skillsand worthless experiences. Typing was one of the useless skillsshe prized most highly, and her fingers flew rapidly as shediscussed the day\\'s business with the Supreme Being:>List the records of the challengers.*#1. 87 recorded, 4 exhibition, rating 7*#2. 3 recorded, no rating*#3. 116 recorded, 103 exhibition, rating 9*#4. 40 recorded, rating 6Caroline scowled. None of them even pre-Change -- PrimeIntellect would have noted it if they were. Babes hoping to getlucky and impress her. The third one was interesting, though; hemust have done something noteworthy to garner a 9 rating in somany exhibitions.The Metamorphosis of Prime Intellect: Chapter 1http://www.kuro5hin.org/prime-intellect/mopiall.html2 of 13423/03/08 23:03')"
      ]
     },
     "execution_count": 7,
     "metadata": {},
     "output_type": "execute_result"
    }
   ],
   "source": [
    "g[0], g[1]"
   ]
  },
  {
   "cell_type": "code",
   "execution_count": 19,
   "metadata": {},
   "outputs": [
    {
     "data": {
      "text/plain": [
       "['The Metamorphosis of Prime IntellectA Novel by Roger Williams   This page contains the entire text of all eight chapters.* Chapter One:   Caroline At PlayHer name was Caroline Frances Hubert',\n",
       " ' and she had threeclaims to fame.In the first place she was the thirty-seventh oldest livinghuman being. Caroline herself was unimpressed by this fact. Toher way of thinking it was the result of an accident',\n",
       " ' nothing more.In any case she had been the thirty-seventh oldest human beingfor a long',\n",
       " ' long time',\n",
       " ' and it got to seem more of a bore than anaccomplishment after a while.In the second place she had once been infected with rabies.Caroline was rather proud of this distinction',\n",
       " \" though it had alsobeen a long time ago. There was a certain class of people whowere quite impressed with Caroline's bout with rabies\",\n",
       " \" not somuch because she survived it but because she hadn't. It had takenPrime Intellect fifty-six hours to realize it couldn't repair thedamage to her nervous system\",\n",
       " ' to backtrack',\n",
       " ' and to put hertogether again like Humpty Dumpty. For fifty-six hours',\n",
       " ' she hadnot existed. She had been dead. And she was the only one of thetrillions of souls in Cyberspace who had ever been dead',\n",
       " ' even for alittle while.In the third place',\n",
       " ' and most important to Caroline because it The Metamorphosis of Prime Intellect: Chapter 1http://www.kuro5hin.org/prime-intellect/mopiall.html1 of 13423/03/08 23:03']"
      ]
     },
     "execution_count": 19,
     "metadata": {},
     "output_type": "execute_result"
    }
   ],
   "source": [
    "g[0].split(',')"
   ]
  },
  {
   "cell_type": "code",
   "execution_count": 32,
   "metadata": {},
   "outputs": [
    {
     "data": {
      "text/plain": [
       "['Na pierwszym miejscu była trzydziestą siódmą najstarszą żyjącą istotą ludzką',\n",
       " ' sama Caroline nie była tym podrażniona',\n",
       " ' jej sposób myślenia był wynikiem wypadku',\n",
       " ' nic więcej.W każdym razie była trzydziestą siódmą najstarszą istotą ludzką przez długi',\n",
       " ' długi czas',\n",
       " ' a to wydawało się bardziej nudą niż osiągnięciem po pewnym czasie.W drugim miejscu była kiedyś zarażona wścieklizną.Caroline była raczej dumna z tego rozróżnienia',\n",
       " ' choć było to również dawno temu. Była pewną klasą ludzi',\n",
       " ' którzy byli pod wrażeniem walki Caroline z wścieklizną',\n",
       " ' nie tylko dlatego',\n",
       " ' że przeżyła',\n",
       " ' ale dlatego',\n",
       " ' że nie miała.']"
      ]
     },
     "execution_count": 32,
     "metadata": {},
     "output_type": "execute_result"
    }
   ],
   "source": [
    "es[0].split(',')"
   ]
  },
  {
   "cell_type": "code",
   "execution_count": 20,
   "metadata": {},
   "outputs": [],
   "source": [
    "from transformers import AutoTokenizer, AutoModelForSeq2SeqLM\n",
    "\n",
    "tokenizer = AutoTokenizer.from_pretrained(\"sdadas/mt5-base-translator-en-pl\")\n",
    "model = AutoModelForSeq2SeqLM.from_pretrained(\"sdadas/mt5-base-translator-en-pl\")"
   ]
  },
  {
   "cell_type": "code",
   "execution_count": 33,
   "metadata": {},
   "outputs": [
    {
     "data": {
      "text/plain": [
       "T5TokenizerFast(name_or_path='sdadas/mt5-base-translator-en-pl', vocab_size=250100, model_max_length=1000000000000000019884624838656, is_fast=True, padding_side='right', truncation_side='right', special_tokens={'eos_token': '</s>', 'unk_token': '<unk>', 'pad_token': '<pad>'}, clean_up_tokenization_spaces=True),  added_tokens_decoder={\n",
       "\t0: AddedToken(\"<pad>\", rstrip=False, lstrip=False, single_word=False, normalized=False, special=True),\n",
       "\t1: AddedToken(\"</s>\", rstrip=False, lstrip=False, single_word=False, normalized=False, special=True),\n",
       "\t2: AddedToken(\"<unk>\", rstrip=False, lstrip=False, single_word=False, normalized=False, special=True),\n",
       "}"
      ]
     },
     "execution_count": 33,
     "metadata": {},
     "output_type": "execute_result"
    }
   ],
   "source": [
    "tokenizer"
   ]
  },
  {
   "cell_type": "code",
   "execution_count": 35,
   "metadata": {},
   "outputs": [
    {
     "data": {
      "text/plain": [
       "250100"
      ]
     },
     "execution_count": 35,
     "metadata": {},
     "output_type": "execute_result"
    }
   ],
   "source": [
    "tokenizer.vocab_size"
   ]
  },
  {
   "cell_type": "code",
   "execution_count": 36,
   "metadata": {},
   "outputs": [],
   "source": [
    "model_inputs = tokenizer(g[0], return_tensors=\"pt\")"
   ]
  },
  {
   "cell_type": "code",
   "execution_count": 31,
   "metadata": {},
   "outputs": [
    {
     "data": {
      "text/plain": [
       "['Na pierwszym miejscu była trzydziestą siódmą najstarszą żyjącą istotą ludzką, sama Caroline nie była tym podrażniona, jej sposób myślenia był wynikiem wypadku, nic więcej.W każdym razie była trzydziestą siódmą najstarszą istotą ludzką przez długi, długi czas, a to wydawało się bardziej nudą niż osiągnięciem po pewnym czasie.W drugim miejscu była kiedyś zarażona wścieklizną.Caroline była raczej dumna z tego rozróżnienia, choć było to również dawno temu. Była pewną klasą ludzi, którzy byli pod wrażeniem walki Caroline z wścieklizną, nie tylko dlatego, że przeżyła, ale dlatego, że nie miała.']"
      ]
     },
     "execution_count": 31,
     "metadata": {},
     "output_type": "execute_result"
    }
   ],
   "source": [
    "\n",
    "generated_tokens = model.generate(\n",
    "    **model_inputs,\n",
    "    max_length = 5000\n",
    ")\n",
    "es = tokenizer.batch_decode(generated_tokens, skip_special_tokens=True)\n",
    "es"
   ]
  }
 ],
 "metadata": {
  "kernelspec": {
   "display_name": "env1",
   "language": "python",
   "name": "python3"
  },
  "language_info": {
   "codemirror_mode": {
    "name": "ipython",
    "version": 3
   },
   "file_extension": ".py",
   "mimetype": "text/x-python",
   "name": "python",
   "nbconvert_exporter": "python",
   "pygments_lexer": "ipython3",
   "version": "3.9.13"
  }
 },
 "nbformat": 4,
 "nbformat_minor": 2
}
